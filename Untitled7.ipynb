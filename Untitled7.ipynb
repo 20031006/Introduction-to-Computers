{
  "nbformat": 4,
  "nbformat_minor": 0,
  "metadata": {
    "colab": {
      "provenance": [],
      "authorship_tag": "ABX9TyPihxIdRZKnC+9vErd9T1B1",
      "include_colab_link": true
    },
    "kernelspec": {
      "name": "python3",
      "display_name": "Python 3"
    },
    "language_info": {
      "name": "python"
    }
  },
  "cells": [
    {
      "cell_type": "markdown",
      "metadata": {
        "id": "view-in-github",
        "colab_type": "text"
      },
      "source": [
        "<a href=\"https://colab.research.google.com/github/20031006/Introduction-to-Computers/blob/main/Untitled7.ipynb\" target=\"_parent\"><img src=\"https://colab.research.google.com/assets/colab-badge.svg\" alt=\"Open In Colab\"/></a>"
      ]
    },
    {
      "cell_type": "code",
      "execution_count": 1,
      "metadata": {
        "colab": {
          "base_uri": "https://localhost:8080/"
        },
        "id": "pGLzWGDk6A2z",
        "outputId": "b743d5fb-64cc-40f6-d3a6-2a86f625cdab"
      },
      "outputs": [
        {
          "output_type": "stream",
          "name": "stdout",
          "text": [
            "[0, 1, 2, 3, 4, 5, 6, 7, 8]\n",
            "[1, 2, 3, 4, 5, 6, 7, 8, 9]\n",
            "[1, 3, 5, 7, 9]\n",
            "[10, 8, 6, 4, 2]\n"
          ]
        }
      ],
      "source": [
        "a=range(0,9)\n",
        "print(list(a))\n",
        "b=range(1,10)\n",
        "print(list(b))\n",
        "c=range(1,10,2)\n",
        "print(list(c))\n",
        "d=range(10,0,-2)\n",
        "print(list(d))"
      ]
    },
    {
      "cell_type": "code",
      "source": [
        "n=int(input(\"請輸入一個正整數\"))\n",
        "e=range(1,n+1)\n",
        "print(list(e))"
      ],
      "metadata": {
        "colab": {
          "base_uri": "https://localhost:8080/"
        },
        "id": "mpHnE6-t7gYx",
        "outputId": "7ff47f4b-245b-4391-a3db-f7d9ac0639d4"
      },
      "execution_count": 2,
      "outputs": [
        {
          "output_type": "stream",
          "name": "stdout",
          "text": [
            "請輸入一個正整數12\n",
            "[1, 2, 3, 4, 5, 6, 7, 8, 9, 10, 11, 12]\n"
          ]
        }
      ]
    },
    {
      "cell_type": "code",
      "source": [
        "n=int(input(\"請輸入一個正整數:\"))\n",
        "sum=0\n",
        "for n in range(1,n+1):\n",
        "  sum=sum+n\n",
        "print(\"1到 %d 的整數合為 %d\" %(n,sum))"
      ],
      "metadata": {
        "colab": {
          "base_uri": "https://localhost:8080/"
        },
        "id": "ApG6AT3w7z1-",
        "outputId": "f5de04e0-31bd-4ada-ed83-6ff86a2dcdbf"
      },
      "execution_count": 3,
      "outputs": [
        {
          "output_type": "stream",
          "name": "stdout",
          "text": [
            "請輸入一個正整數:50\n",
            "1到 50 的整數合為 1275\n"
          ]
        }
      ]
    },
    {
      "cell_type": "code",
      "source": [
        "n=int(input(\"請輸入一個正整數:\"))\n",
        "sum=0\n",
        "for i in range(1,n+1,1):\n",
        " sum=sum+i\n",
        " print('1到',i,' 的整數合為: ',sum)"
      ],
      "metadata": {
        "colab": {
          "base_uri": "https://localhost:8080/"
        },
        "id": "53m36B508nh0",
        "outputId": "b35b6d6b-4f7f-4b87-a4b2-13148d5545b5"
      },
      "execution_count": 6,
      "outputs": [
        {
          "output_type": "stream",
          "name": "stdout",
          "text": [
            "請輸入一個正整數:10\n",
            "1到 1  的整數合為:  1\n",
            "1到 2  的整數合為:  3\n",
            "1到 3  的整數合為:  6\n",
            "1到 4  的整數合為:  10\n",
            "1到 5  的整數合為:  15\n",
            "1到 6  的整數合為:  21\n",
            "1到 7  的整數合為:  28\n",
            "1到 8  的整數合為:  36\n",
            "1到 9  的整數合為:  45\n",
            "1到 10  的整數合為:  55\n"
          ]
        }
      ]
    }
  ]
}