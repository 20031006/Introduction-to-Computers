{
  "nbformat": 4,
  "nbformat_minor": 0,
  "metadata": {
    "colab": {
      "provenance": [],
      "authorship_tag": "ABX9TyONuL3wwRnmDMBpYf9LwURM",
      "include_colab_link": true
    },
    "kernelspec": {
      "name": "python3",
      "display_name": "Python 3"
    },
    "language_info": {
      "name": "python"
    }
  },
  "cells": [
    {
      "cell_type": "markdown",
      "metadata": {
        "id": "view-in-github",
        "colab_type": "text"
      },
      "source": [
        "<a href=\"https://colab.research.google.com/github/20031006/Introduction-to-Computers/blob/main/Untitled6.ipynb\" target=\"_parent\"><img src=\"https://colab.research.google.com/assets/colab-badge.svg\" alt=\"Open In Colab\"/></a>"
      ]
    },
    {
      "cell_type": "code",
      "execution_count": 4,
      "metadata": {
        "colab": {
          "base_uri": "https://localhost:8080/"
        },
        "id": "qxv6dLNU1RC8",
        "outputId": "090a219e-55da-46f6-f687-690d97d439d2"
      },
      "outputs": [
        {
          "output_type": "stream",
          "name": "stdout",
          "text": [
            "score: 50\n",
            "Grade is: F\n"
          ]
        }
      ],
      "source": [
        "score = int(input(\"score: \"))\n",
        "if score >= 90:\n",
        " print('Grade is: A')\n",
        "elif score >= 80:\n",
        " print('Grade is: B')\n",
        "elif score >= 70:\n",
        " print('Grade is: C')\n",
        "elif score >= 60:\n",
        " print('Grade is: D')\n",
        "else:\n",
        " print('Grade is: F')"
      ]
    },
    {
      "cell_type": "code",
      "source": [
        "temperature = int(input(\"temperature: \"))\n",
        "if temperature >= 37.5:\n",
        "  print('體溫過高!')\n",
        "elif temperature >= 34.7 and temperature <= 37.4:\n",
        "  print('體溫略高!')\n",
        "elif temperature >= 34 and temperature <= 36.9:\n",
        "  print('體溫正常!')\n",
        "else:\n",
        "  print('體溫異常，請重新量測!')"
      ],
      "metadata": {
        "colab": {
          "base_uri": "https://localhost:8080/"
        },
        "id": "NDy8vN6Q1rPh",
        "outputId": "4fb863c7-d21c-4c7f-996c-1e0634871de4"
      },
      "execution_count": 8,
      "outputs": [
        {
          "output_type": "stream",
          "name": "stdout",
          "text": [
            "temperature: 36\n",
            "體溫略高!\n"
          ]
        }
      ]
    },
    {
      "cell_type": "code",
      "source": [
        "score = int(input(\"score: \"))\n",
        "if score >= 90:\n",
        " print('A')\n",
        "elif score >= 80 and score <= 89:\n",
        " print('B')\n",
        "elif score >= 70 and score <= 79:\n",
        " print('C')\n",
        "elif score >= 60 and score <= 69:\n",
        " print('D')\n",
        "else:\n",
        " print('E')"
      ],
      "metadata": {
        "colab": {
          "base_uri": "https://localhost:8080/"
        },
        "id": "qwGOrjOP3zMz",
        "outputId": "58c0e4fb-c2b0-4c90-b2a0-781bc935c137"
      },
      "execution_count": 10,
      "outputs": [
        {
          "output_type": "stream",
          "name": "stdout",
          "text": [
            "score: 84\n",
            "B\n"
          ]
        }
      ]
    },
    {
      "cell_type": "code",
      "source": [
        "f = int(input())\n",
        "if(f >= 1 and f <= 12):\n",
        " if(f == 1 or f == 2 or f == 3):\n",
        "  print(\"{}月是春天!\".format(f))\n",
        " elif(f == 4 or f == 5 or f == 6):\n",
        "  print(\"{}月是夏天!\".format(f))\n",
        " elif(f == 7 or f == 8 or f == 9):\n",
        "  print(\"{}月是秋天!\".format(f))\n",
        " else:\n",
        "  print(\"{}月是冬天!\".format(f))\n",
        "else:\n",
        "  print(\"月份不在範圍內!\")"
      ],
      "metadata": {
        "colab": {
          "base_uri": "https://localhost:8080/"
        },
        "id": "YXB0pStY4KWA",
        "outputId": "ca8fdebb-db15-4720-8ab7-03f4018f6b3a"
      },
      "execution_count": 5,
      "outputs": [
        {
          "output_type": "stream",
          "name": "stdout",
          "text": [
            "1\n",
            "1月是春天!\n"
          ]
        }
      ]
    },
    {
      "cell_type": "code",
      "source": [
        "salary=int(input(\"請輸入收入淨額:\"))\n",
        "if(salary >= 2000000):\n",
        " tax = salary*0.3\n",
        " print(\"付稅金額:{}元\".format(tax))\n",
        "elif(salary >= 1000000):\n",
        " tax = salary*0.21\n",
        " print(\"付稅金額:{}元\".format(tax))\n",
        "elif(salary >= 60000):\n",
        " tax = salary*0.13\n",
        " print(\"付稅金額:{}元\".format(tax))\n",
        "else:\n",
        " tax = salary*0.06\n",
        " print(\"付稅金額:{}元\".format(tax))"
      ],
      "metadata": {
        "colab": {
          "base_uri": "https://localhost:8080/"
        },
        "id": "bFwUHQ3y9o2B",
        "outputId": "e9282030-d7c6-4d08-ad37-f60692315828"
      },
      "execution_count": 27,
      "outputs": [
        {
          "output_type": "stream",
          "name": "stdout",
          "text": [
            "請輸入收入淨額:2000000\n",
            "付稅金額:600000.0元\n"
          ]
        }
      ]
    }
  ]
}